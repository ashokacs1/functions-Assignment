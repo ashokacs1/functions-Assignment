{
  "cells": [
    {
      "cell_type": "markdown",
      "source": [
        "##### Q1. Which keyword is used to create a function? Create a function to return a list of odd numbers in the range of 1 to 25."
      ],
      "metadata": {
        "id": "kQHsWpAPV_70"
      }
    },
    {
      "cell_type": "code",
      "source": [
        "def add():\n",
        "  s = [n for n in range(1,26) if n % 2 != 0 ]\n",
        "  return s\n",
        "add()"
      ],
      "metadata": {
        "colab": {
          "base_uri": "https://localhost:8080/"
        },
        "id": "3Y54GztyIO6_",
        "outputId": "58cd6785-b3d6-4ef6-d34a-edc769f0f6cd"
      },
      "execution_count": null,
      "outputs": [
        {
          "output_type": "execute_result",
          "data": {
            "text/plain": [
              "[1, 3, 5, 7, 9, 11, 13, 15, 17, 19, 21, 23, 25]"
            ]
          },
          "metadata": {},
          "execution_count": 51
        }
      ]
    },
    {
      "cell_type": "markdown",
      "source": [
        "##### Q2. Why *args and **kwargs is used in some functions? Create a function each for *args and **kwargs to demonstrate their use."
      ],
      "metadata": {
        "id": "Z4FrrjJLXRho"
      }
    },
    {
      "cell_type": "code",
      "source": [
        "*args and **kwargs\n",
        "*args (Arbitrary Positional Arguments):\n",
        "The *args syntax allows a function to accept an arbitrary number of positional arguments.\n",
        "When you use *args in a function definition, it collects any extra positional arguments passed to the function into a tuple.\n",
        "You can think of it as “packing” positional arguments.\n",
        "Example with *args:\n",
        "Python\n",
        "\n",
        "def print_args(*args):\n",
        "    for arg in args:\n",
        "        print(arg)\n",
        "\n",
        "print_args(1, 2, 3, \"hello\")\n",
        "# Output:\n",
        "# 1\n",
        "# 2\n",
        "# 3\n",
        "# hello\n",
        "\n",
        "Use Cases for *args:\n",
        "When you want to create a function that can handle a variable number of arguments without explicitly specifying them.\n",
        "**kwargs (Arbitrary Keyword Arguments):\n",
        "The **kwargs syntax allows a function to accept an arbitrary number of keyword arguments (key-value pairs).\n",
        "When you use **kwargs in a function definition, it collects any extra keyword arguments passed to the function into a dictionary.\n",
        "You can think of it as “packing” keyword arguments.\n",
        "Example with **kwargs:\n",
        "Python\n",
        "\n",
        "def print_kwargs(**kwargs):\n",
        "    for key, value in kwargs.items():\n",
        "        print(f\"{key}: {value}\")\n",
        "\n",
        "print_kwargs(name=\"Alice\", age=30, city=\"Wonderland\")\n",
        "# Output:\n",
        "# name: Alice\n",
        "# age: 30\n",
        "# city: Wonderland\n",
        "\n",
        "Use Cases for **kwargs:\n",
        "When you want to create a function that can handle optional named arguments without explicitly specifying them.\n",
        "Demonstrating *args and **kwargs\n",
        "Let’s create simple functions to demonstrate their use:\n",
        "\n",
        "Python\n",
        "\n",
        "def show_args(*args):\n",
        "    print(\"Positional arguments:\")\n",
        "    for arg in args:\n",
        "        print(arg)\n",
        "\n",
        "def show_kwargs(**kwargs):\n",
        "    print(\"Keyword arguments:\")\n",
        "    for key, value in kwargs.items():\n",
        "        print(f\"{key}: {value}\")\n",
        "\n",
        "# Example usage:\n",
        "show_args(1, 2, 3, \"hello\")\n",
        "show_kwargs(name=\"Bob\", age=25, city=\"Pythonville\")"
      ],
      "metadata": {
        "id": "vFCPnS88IPAt"
      },
      "execution_count": null,
      "outputs": []
    },
    {
      "cell_type": "markdown",
      "source": [
        "##### Q3. What is an iterator in python? Name the method used to initialise the iterator object and the method\n",
        "used for iteration. Use these methods to print the first five elements of the given list [2, 4, 6, 8, 10, 12, 14, 16,\n",
        "18, 20]."
      ],
      "metadata": {
        "id": "Q-jI6LsYYliF"
      }
    },
    {
      "cell_type": "markdown",
      "source": [
        "==>> An iterator in Python is an object that allows you to traverse through all the elements in a collection (like a list or tuple), one element at a time. In Python, iterators implement two methods: __iter__() and __next__(). The __iter__() method is used to initialize the iterator object, and the __next__() method is used for iteration. Here is how you can use these methods to print the first five elements of the given list [2, 4, 6, 8, 10, 12, 14, 16, 18, 20]:"
      ],
      "metadata": {
        "id": "tqzyi1WP5scA"
      }
    },
    {
      "cell_type": "code",
      "source": [
        "# Given list\n",
        "numbers = [2, 4, 6, 8, 10, 12, 14, 16, 18, 20]\n",
        "\n",
        "# Initialize the iterator object\n",
        "iterator = iter(numbers)\n",
        "\n",
        "# Use a loop to iterate through the first five elements\n",
        "for _ in range(5):\n",
        "    # Get the next element from the iterator\n",
        "    element = next(iterator)\n",
        "    # Print the element\n",
        "    print(element)\n"
      ],
      "metadata": {
        "id": "k4pwVfVYIPEA",
        "colab": {
          "base_uri": "https://localhost:8080/"
        },
        "outputId": "8a6aa194-d287-4218-de4c-89ac5392e97e"
      },
      "execution_count": 4,
      "outputs": [
        {
          "output_type": "stream",
          "name": "stdout",
          "text": [
            "2\n",
            "4\n",
            "6\n",
            "8\n",
            "10\n"
          ]
        }
      ]
    },
    {
      "cell_type": "markdown",
      "source": [
        "Q4. What is a generator function in python? Why yield keyword is used? Give an example of a generator\n",
        "function."
      ],
      "metadata": {
        "id": "Q8dO8o-27DYZ"
      }
    },
    {
      "cell_type": "markdown",
      "source": [
        "==>>> A generator function in Python is a special type of function that returns an iterator object which we can iterate over (one value at a time). Instead of using return to return a value and terminate the function, a generator function uses the yield keyword to yield a value and pause its execution, preserving its state for the next iteration.\n",
        "\n",
        "The yield keyword is used in generator functions to produce a series of values, one at a time, as the function is iterated over. When yield is used, the state of the function is \"saved\" between each yield and resumed when the next value is requested."
      ],
      "metadata": {
        "id": "upEED0JP8QRB"
      }
    },
    {
      "cell_type": "code",
      "source": [
        "# Define a generator function\n",
        "def simple_generator():\n",
        "    yield 1\n",
        "    yield 2\n",
        "    yield 3\n",
        "\n",
        "# Create a generator object\n",
        "gen = simple_generator()\n",
        "\n",
        "# Iterate over the generator object and print the yielded values\n",
        "for value in gen:\n",
        "    print(value)\n"
      ],
      "metadata": {
        "id": "GTwn-CY4IPG4",
        "colab": {
          "base_uri": "https://localhost:8080/"
        },
        "outputId": "b18514cf-9605-4f84-b377-10d53fec29d7"
      },
      "execution_count": 5,
      "outputs": [
        {
          "output_type": "stream",
          "name": "stdout",
          "text": [
            "1\n",
            "2\n",
            "3\n"
          ]
        }
      ]
    },
    {
      "cell_type": "markdown",
      "source": [
        "Q5. Create a generator function for prime numbers less than 1000. Use the next() method to print the\n",
        "first 20 prime numbers."
      ],
      "metadata": {
        "id": "kE7RG-k88o0w"
      }
    },
    {
      "cell_type": "code",
      "source": [
        "# Define a generator function for prime numbers\n",
        "def prime_numbers():\n",
        "    primes = []\n",
        "    num = 2\n",
        "    while num < 1000:\n",
        "        is_prime = all(num % p != 0 for p in primes)\n",
        "        if is_prime:\n",
        "            primes.append(num)\n",
        "            yield num\n",
        "        num += 1\n",
        "\n",
        "# Create a generator object\n",
        "prime_gen = prime_numbers()\n",
        "\n",
        "# Use the next() method to print the first 20 prime numbers\n",
        "for _ in range(20):\n",
        "    print(next(prime_gen))\n"
      ],
      "metadata": {
        "id": "iCQLoHugIPJ1",
        "colab": {
          "base_uri": "https://localhost:8080/"
        },
        "outputId": "58d553e6-bcd4-4d0e-e4eb-6d5500274adc"
      },
      "execution_count": 6,
      "outputs": [
        {
          "output_type": "stream",
          "name": "stdout",
          "text": [
            "2\n",
            "3\n",
            "5\n",
            "7\n",
            "11\n",
            "13\n",
            "17\n",
            "19\n",
            "23\n",
            "29\n",
            "31\n",
            "37\n",
            "41\n",
            "43\n",
            "47\n",
            "53\n",
            "59\n",
            "61\n",
            "67\n",
            "71\n"
          ]
        }
      ]
    }
  ],
  "metadata": {
    "colab": {
      "provenance": []
    },
    "kernelspec": {
      "display_name": "Python 3",
      "name": "python3"
    },
    "language_info": {
      "name": "python"
    }
  },
  "nbformat": 4,
  "nbformat_minor": 0
}